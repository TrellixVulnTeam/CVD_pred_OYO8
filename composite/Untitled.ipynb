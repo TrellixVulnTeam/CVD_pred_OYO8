{
 "cells": [
  {
   "cell_type": "code",
   "execution_count": 7,
   "id": "3c6809db-6f16-418d-876e-cb84ae10e19e",
   "metadata": {},
   "outputs": [
    {
     "ename": "TypeError",
     "evalue": "'NoneType' object is not callable",
     "output_type": "error",
     "traceback": [
      "\u001b[0;31m---------------------------------------------------------------------------\u001b[0m",
      "\u001b[0;31mTypeError\u001b[0m                                 Traceback (most recent call last)",
      "\u001b[0;32m<ipython-input-7-e8a8dc3c07a9>\u001b[0m in \u001b[0;36m<module>\u001b[0;34m\u001b[0m\n\u001b[1;32m      9\u001b[0m \u001b[0;34m\u001b[0m\u001b[0m\n\u001b[1;32m     10\u001b[0m \u001b[0mapply_gradients\u001b[0m \u001b[0;34m=\u001b[0m \u001b[0m_get_apply_grad_fn\u001b[0m\u001b[0;34m(\u001b[0m\u001b[0m_get_loss_fn\u001b[0m\u001b[0;34m(\u001b[0m\u001b[0;34m)\u001b[0m\u001b[0;34m,\u001b[0m \u001b[0;36m8\u001b[0m\u001b[0;34m)\u001b[0m\u001b[0;34m\u001b[0m\u001b[0;34m\u001b[0m\u001b[0m\n\u001b[0;32m---> 11\u001b[0;31m \u001b[0mapply_gradients\u001b[0m\u001b[0;34m(\u001b[0m\u001b[0;36m1\u001b[0m\u001b[0;34m,\u001b[0m\u001b[0;36m2\u001b[0m\u001b[0;34m,\u001b[0m\u001b[0;36m3\u001b[0m\u001b[0;34m,\u001b[0m\u001b[0;36m4\u001b[0m\u001b[0;34m)\u001b[0m\u001b[0;34m\u001b[0m\u001b[0;34m\u001b[0m\u001b[0m\n\u001b[0m",
      "\u001b[0;31mTypeError\u001b[0m: 'NoneType' object is not callable"
     ]
    }
   ],
   "source": [
    "def _get_apply_grad_fn(a_fn,b):\n",
    "    def apply_gradients(c,d,e,f):\n",
    "        loss_fn(a_fn(c,d,e,f))\n",
    "\n",
    "def _get_loss_fn():\n",
    "    def _compute_loss(c,d,e,f):\n",
    "        return(c+d+e+f)\n",
    "    return(_compute_loss)\n",
    "        \n",
    "apply_gradients = _get_apply_grad_fn(_get_loss_fn(), 8)\n",
    "apply_gradients(1,2,3,4)"
   ]
  },
  {
   "cell_type": "code",
   "execution_count": 35,
   "id": "e5accff9-2495-4e25-b287-3c2f2efa22f4",
   "metadata": {},
   "outputs": [
    {
     "name": "stdout",
     "output_type": "stream",
     "text": [
      "15\n"
     ]
    }
   ],
   "source": [
    "class DeepSurv:\n",
    "    \n",
    "    def __init__(self, name, age):\n",
    "      self.name = name\n",
    "      self.age = age\n",
    "        \n",
    "    def _get_loss_fn(self):\n",
    "        def _compute_loss(c,d,e,f,g):\n",
    "            return(c+d+e+f+g)\n",
    "        return(_compute_loss)\n",
    "        \n",
    "    def _get_apply_grad_fn(self, loss_fn,b):\n",
    "        def apply_gradients(c,d,e,f,g):\n",
    "#             import pdb; pdb.set_trace()\n",
    "            return(loss_fn(c,d,e,f,g))\n",
    "        return(apply_gradients)\n",
    "    \n",
    "    \n",
    "    def fit(self):\n",
    "            \n",
    "        app = self._get_apply_grad_fn(self._get_loss_fn(), 8)\n",
    "        grad = app(1,2,3,4,5)\n",
    "        print(grad)\n",
    "\n",
    "cls_deep = DeepSurv('john', 23)\n",
    "cls_deep.fit()"
   ]
  },
  {
   "cell_type": "code",
   "execution_count": 6,
   "id": "832970e6-51a3-4455-ac7b-eb91e75e0d3a",
   "metadata": {},
   "outputs": [
    {
     "name": "stdout",
     "output_type": "stream",
     "text": [
      "15\n"
     ]
    }
   ],
   "source": [
    "        \n",
    "def _get_loss_fn():\n",
    "    def _compute_loss(c,d,e,f,g):\n",
    "        return(c+d+e+f+g)\n",
    "    return(_compute_loss)\n",
    "    \n",
    "def _get_apply_grad_fn(loss_fn):\n",
    "    def apply_gradients(c,d,e,f,g):\n",
    "        return(loss_fn(c,d,e,f,g))\n",
    "    return(apply_gradients)\n",
    "\n",
    "\n",
    "def fit():\n",
    "        \n",
    "    app = _get_apply_grad_fn(_get_loss_fn())\n",
    "    #import pdb; pdb.set_trace()\n",
    "    grad = app(1,2,3,4,5)\n",
    "    print(grad)\n",
    "    return(grad)\n",
    "\n",
    "# cls_deep = DeepSurv('john', 23)\n",
    "# cls_deep = DeepSurv()\n",
    "# cls_deep.fit()\n",
    "\n",
    "e = fit()"
   ]
  },
  {
   "cell_type": "code",
   "execution_count": 7,
   "id": "50ad415a-87c1-44d0-b208-faaea9e431e7",
   "metadata": {},
   "outputs": [
    {
     "data": {
      "text/plain": [
       "15"
      ]
     },
     "execution_count": 7,
     "metadata": {},
     "output_type": "execute_result"
    }
   ],
   "source": [
    "e"
   ]
  },
  {
   "cell_type": "code",
   "execution_count": 50,
   "id": "27716c38-7e6e-46c0-9952-de358b2e5046",
   "metadata": {},
   "outputs": [
    {
     "ename": "AttributeError",
     "evalue": "'function' object has no attribute '_compute_loss'",
     "output_type": "error",
     "traceback": [
      "\u001b[0;31m---------------------------------------------------------------------------\u001b[0m",
      "\u001b[0;31mAttributeError\u001b[0m                            Traceback (most recent call last)",
      "\u001b[0;32m<ipython-input-50-0ddba1ea00c3>\u001b[0m in \u001b[0;36m<module>\u001b[0;34m\u001b[0m\n\u001b[1;32m      4\u001b[0m     \u001b[0;32mreturn\u001b[0m\u001b[0;34m(\u001b[0m\u001b[0m_compute_loss\u001b[0m\u001b[0;34m)\u001b[0m\u001b[0;34m\u001b[0m\u001b[0;34m\u001b[0m\u001b[0m\n\u001b[1;32m      5\u001b[0m \u001b[0;34m\u001b[0m\u001b[0m\n\u001b[0;32m----> 6\u001b[0;31m \u001b[0m_get_loss_fn\u001b[0m\u001b[0;34m.\u001b[0m\u001b[0m_compute_loss\u001b[0m\u001b[0;34m(\u001b[0m\u001b[0;36m1\u001b[0m\u001b[0;34m,\u001b[0m\u001b[0;36m2\u001b[0m\u001b[0;34m,\u001b[0m\u001b[0;36m3\u001b[0m\u001b[0;34m,\u001b[0m\u001b[0;36m4\u001b[0m\u001b[0;34m,\u001b[0m\u001b[0;36m5\u001b[0m\u001b[0;34m)\u001b[0m\u001b[0;34m\u001b[0m\u001b[0;34m\u001b[0m\u001b[0m\n\u001b[0m",
      "\u001b[0;31mAttributeError\u001b[0m: 'function' object has no attribute '_compute_loss'"
     ]
    }
   ],
   "source": [
    "def _get_loss_fn():\n",
    "    def _compute_loss(c,d,e,f,g):\n",
    "        return(c+d+e+f+g)\n",
    "    return(_compute_loss)\n",
    "\n",
    "_get_loss_fn._compute_loss(1,2,3,4,5)"
   ]
  },
  {
   "cell_type": "code",
   "execution_count": 47,
   "id": "c606b655-83ba-4de0-a2f8-7c3b4d554b64",
   "metadata": {},
   "outputs": [
    {
     "ename": "NameError",
     "evalue": "name 'app' is not defined",
     "output_type": "error",
     "traceback": [
      "\u001b[0;31m---------------------------------------------------------------------------\u001b[0m",
      "\u001b[0;31mNameError\u001b[0m                                 Traceback (most recent call last)",
      "\u001b[0;32m<ipython-input-47-8d494114ce46>\u001b[0m in \u001b[0;36m<module>\u001b[0;34m\u001b[0m\n\u001b[0;32m----> 1\u001b[0;31m \u001b[0mapp\u001b[0m\u001b[0;34m\u001b[0m\u001b[0;34m\u001b[0m\u001b[0m\n\u001b[0m",
      "\u001b[0;31mNameError\u001b[0m: name 'app' is not defined"
     ]
    }
   ],
   "source": [
    "app"
   ]
  },
  {
   "cell_type": "code",
   "execution_count": null,
   "id": "24e3e8b5-e73d-41f2-b6be-7c2b534dd118",
   "metadata": {},
   "outputs": [],
   "source": []
  }
 ],
 "metadata": {
  "kernelspec": {
   "display_name": "Python 3",
   "language": "python",
   "name": "python3"
  },
  "language_info": {
   "codemirror_mode": {
    "name": "ipython",
    "version": 3
   },
   "file_extension": ".py",
   "mimetype": "text/x-python",
   "name": "python",
   "nbconvert_exporter": "python",
   "pygments_lexer": "ipython3",
   "version": "3.6.9"
  }
 },
 "nbformat": 4,
 "nbformat_minor": 5
}
