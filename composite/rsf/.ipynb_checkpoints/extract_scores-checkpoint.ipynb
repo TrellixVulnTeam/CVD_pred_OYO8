{
 "cells": [
  {
   "cell_type": "code",
   "execution_count": null,
   "id": "dadc25fe-f6dc-4d84-9fe6-dc9a5537d19d",
   "metadata": {},
   "outputs": [],
   "source": [
    "import pandas as pd\n",
    "import numpy as np\n",
    "import pickle\n",
    "import pickle5\n",
    "import pickle5 as pickle\n",
    "import joblib\n",
    "\n",
    "!pip install -U -q scikit-survival"
   ]
  },
  {
   "cell_type": "markdown",
   "id": "b332cb18-9e41-4f7a-b8df-5c0f37378be4",
   "metadata": {},
   "source": [
    "# ALL"
   ]
  },
  {
   "cell_type": "code",
   "execution_count": null,
   "id": "bb93acf3-cda1-416d-8d27-e6994fd8beee",
   "metadata": {},
   "outputs": [],
   "source": [
    "\n",
    "\n",
    "with open('../RS_composite_all_X_TRAIN', 'rb') as pickle_file:\n",
    "    X_train = pickle.load(pickle_file)\n",
    "    with open('../RS_composite_all_X_test', 'rb') as pickle_file:\n",
    "        X_test = pickle.load(pickle_file)\n",
    "\n",
    "# RS_y = np.array(list(tuple(zip(E_train, T_train))), dtype = [('E', bool), ('T', float)])\n",
    "# RS_test_y = np.array(list(tuple(zip(E_test, T_test))), dtype = [('E', bool), ('T', float)])\n",
    "\n",
    "#### make model\n",
    "# ##rsf = RandomSurvivalForest(n_estimators = 1, verbose = 1, n_jobs=-1)\n",
    "# ##rsf = RandomSurvivalForest(n_estimators = 30, verbose = 1, n_jobs=15)\n",
    "# rsf = RandomSurvivalForest(n_estimators = 100, verbose = 1, n_jobs=-1)\n",
    "# #rsf = RandomSurvivalForest(n_estimators = 1000, verbose = 1, n_jobs=-2)\n",
    "# rsf.fit(X_train, RS_y)\n",
    "# joblib.dump(rsf, \"joblib_model_composite_all_rsf100n.pkl\")\n",
    "# ### make model\n",
    "\n",
    "## ALL\n",
    "rsf = joblib.load('joblib_model_composite_all_rsf100n.pkl')\n",
    "\n",
    "testPred = pd.Series(rsf.predict(X_test))\n",
    "testPred\n",
    "trainPred = pd.Series(rsf.predict(X_train))\n",
    "# print('ALL test')\n",
    "# print(c_index_bootstrap(T_test, E_test, testPred))\n",
    "# print('ALL train')\n",
    "# print(c_index_bootstrap(T_train, E_train, trainPred))\n",
    "\n",
    "np.savetxt('RS_composite_all.pred_score.rsf.train.txt',trainPred)\n",
    "np.savetxt('RS_composite_all.pred_score.rsf.test.txt',testPred)\n"
   ]
  }
 ],
 "metadata": {
  "kernelspec": {
   "display_name": "Python 3",
   "language": "python",
   "name": "python3"
  },
  "language_info": {
   "codemirror_mode": {
    "name": "ipython",
    "version": 3
   },
   "file_extension": ".py",
   "mimetype": "text/x-python",
   "name": "python",
   "nbconvert_exporter": "python",
   "pygments_lexer": "ipython3",
   "version": "3.6.9"
  }
 },
 "nbformat": 4,
 "nbformat_minor": 5
}
