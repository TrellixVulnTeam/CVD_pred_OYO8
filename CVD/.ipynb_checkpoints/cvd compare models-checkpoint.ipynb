{
 "cells": [
  {
   "cell_type": "code",
   "execution_count": null,
   "id": "surrounded-reminder",
   "metadata": {},
   "outputs": [
    {
     "name": "stderr",
     "output_type": "stream",
     "text": [
      "/opt/home/buckcenter.org/hhuang/DeepSurv/CVD/functions.py:700: SyntaxWarning: \"is\" with a literal. Did you mean \"==\"?\n",
      "  if na_replace is 'fit_transform':\n",
      "/opt/home/buckcenter.org/hhuang/DeepSurv/CVD/functions.py:708: SyntaxWarning: \"is\" with a literal. Did you mean \"==\"?\n",
      "  elif na_replace is 'transform':\n"
     ]
    }
   ],
   "source": [
    "from functions import *\n",
    "import numpy as np"
   ]
  },
  {
   "cell_type": "markdown",
   "id": "southwest-gibson",
   "metadata": {},
   "source": [
    "## ALL"
   ]
  },
  {
   "cell_type": "code",
   "execution_count": null,
   "id": "amazing-sullivan",
   "metadata": {
    "scrolled": true
   },
   "outputs": [],
   "source": [
    "RS_composite_all = RiskScore.load('RS_cvd_all.tar.gz')"
   ]
  },
  {
   "cell_type": "code",
   "execution_count": null,
   "id": "revolutionary-freeware",
   "metadata": {},
   "outputs": [],
   "source": [
    "##RS_composite_all.X_train.assign(T=RS_composite_all.T_train, E=RS_composite_all.E_train)"
   ]
  },
  {
   "cell_type": "code",
   "execution_count": null,
   "id": "collectible-material",
   "metadata": {},
   "outputs": [],
   "source": [
    "#evaluation_prms = {}\n",
    "#evaluation_prms.setdefault('n_bootstrap', 10)\n",
    "#RS_composite_all.deep_surv.evaluate(RS_composite_all.X_train,\n",
    "#                                    RS_composite_all.E_train,\n",
    "#                                    RS_composite_all.T_train,\n",
    "#                                    RS_composite_all.X_test,\n",
    "#                                    RS_composite_all.E_test,\n",
    "#                                    RS_composite_all.T_test,\n",
    "#                                    evaluation_prms)\n",
    "#                                    "
   ]
  },
  {
   "cell_type": "code",
   "execution_count": null,
   "id": "processed-referral",
   "metadata": {},
   "outputs": [],
   "source": [
    "#print(RS_composite_all.X_train.shape)\n",
    "#print(RS_composite_all.E_train.shape)\n",
    "#print(RS_composite_all.T_train.shape)"
   ]
  },
  {
   "cell_type": "code",
   "execution_count": null,
   "id": "finite-silly",
   "metadata": {},
   "outputs": [],
   "source": [
    "#RS_composite_all.X_train.assign(T=RS_composite_all.T_train, E=RS_composite_all.E_train)"
   ]
  },
  {
   "cell_type": "code",
   "execution_count": null,
   "id": "academic-rugby",
   "metadata": {},
   "outputs": [],
   "source": []
  },
  {
   "cell_type": "markdown",
   "id": "actual-virginia",
   "metadata": {},
   "source": [
    "## jacobian"
   ]
  },
  {
   "cell_type": "code",
   "execution_count": null,
   "id": "recovered-shakespeare",
   "metadata": {
    "scrolled": true
   },
   "outputs": [],
   "source": [
    "def get_Jacobian(RS_composite_all,eps=1e-3):\n",
    "    n,p = RS_composite_all.X_train.shape\n",
    "    J = np.zeros([n,p])\n",
    "    for i in range(p):\n",
    "        #print(i)\n",
    "        x0 = RS_composite_all.X_train.copy()\n",
    "        x1 = RS_composite_all.X_train.copy()\n",
    "        x0.iloc[:,i] = x0.iloc[:,i] - eps\n",
    "        x1.iloc[:,i] = x1.iloc[:,i] + eps\n",
    "        J[:,i:i+1] = ((RS_composite_all.deep_surv.predict_risk(x1) \\\n",
    "                      - RS_composite_all.deep_surv.predict_risk(x0))/(2.0*eps))[:,0:0+1]\n",
    "    return J\n",
    "\n",
    "J = get_Jacobian(RS_composite_all)\n",
    "\n",
    "#n,p = RS_composite_all.X_train.shape\n",
    "#J = np.zeros([n,p])\n",
    "#x0.iloc[:,1] - 0.001 \n",
    "##for i in range(p):\n",
    "##    print(i)\n",
    "##    x0 = RS_composite_all.X_train.copy()\n",
    "##    x1 = RS_composite_all.X_train.copy()\n",
    "##    x0[:,i] = x0[:,i] - eps\n",
    "##    x1[:,i] = x1[:,i] + eps\n",
    "##    J[:,i:i+1] = (RS_composite_all.deep_surv.predict_risk(x1) \\\n",
    "##                  - RS_composite_all.deep_surv.predict_risk(x0))/(2.0*eps)"
   ]
  },
  {
   "cell_type": "code",
   "execution_count": null,
   "id": "retained-exclusive",
   "metadata": {},
   "outputs": [],
   "source": [
    "#plotting jacobian\n",
    "xlb = RS_composite_all.X_train.columns\n",
    "#lst = np.argsort(-np.sum(np.abs(J),axis=0))\n",
    "lst = np.argsort(-np.sum((J),axis=0))\n",
    "plt.figure(figsize=[20,10])\n",
    "plt.boxplot(J[:,lst], showfliers=False)\n",
    "plt.grid()\n",
    "plt.xticks(np.arange(len(xlb))+1,xlb[lst],rotation='vertical')\n",
    "plt.ylabel('Jacobian')\n",
    "plt.show()\n",
    "\n",
    "#xlb = RS_composite_all.X_train.columns\n",
    "#lst = np.argsort(-np.sum(np.abs(J),axis=0))\n",
    "#plt.figure(figsize=[20,10])\n",
    "##plt.boxplot(J[:,lst])\n",
    "#plt.boxplot(J[:,lst[0:10]])\n",
    "#plt.grid()\n",
    "#plt.xticks(np.arange(len(xlb[0:10]))+1,xlb[lst][0:10],rotation='vertical')\n",
    "#plt.ylabel('Jacobian')\n",
    "#plt.show()"
   ]
  },
  {
   "cell_type": "markdown",
   "id": "worthy-allah",
   "metadata": {},
   "source": [
    "# sans base"
   ]
  },
  {
   "cell_type": "code",
   "execution_count": null,
   "id": "juvenile-failing",
   "metadata": {
    "scrolled": false
   },
   "outputs": [],
   "source": [
    "RS_composite_all = RiskScore.load('RS_cvd_sans_base.tar.gz')"
   ]
  },
  {
   "cell_type": "code",
   "execution_count": null,
   "id": "collaborative-hayes",
   "metadata": {},
   "outputs": [],
   "source": [
    "#RS_composite_all.X_train.assign(T=RS_composite_all.T_train, E=RS_composite_all.E_train)"
   ]
  },
  {
   "cell_type": "code",
   "execution_count": null,
   "id": "fifty-cosmetic",
   "metadata": {},
   "outputs": [],
   "source": []
  },
  {
   "cell_type": "markdown",
   "id": "synthetic-primary",
   "metadata": {},
   "source": [
    "## jacobian"
   ]
  },
  {
   "cell_type": "code",
   "execution_count": null,
   "id": "worth-lambda",
   "metadata": {
    "scrolled": true
   },
   "outputs": [],
   "source": [
    "def get_Jacobian(RS_composite_all,eps=1e-3):\n",
    "    n,p = RS_composite_all.X_train.shape\n",
    "    J = np.zeros([n,p])\n",
    "    for i in range(p):\n",
    "        #print(i)\n",
    "        x0 = RS_composite_all.X_train.copy()\n",
    "        x1 = RS_composite_all.X_train.copy()\n",
    "        x0.iloc[:,i] = x0.iloc[:,i] - eps\n",
    "        x1.iloc[:,i] = x1.iloc[:,i] + eps\n",
    "        J[:,i:i+1] = ((RS_composite_all.deep_surv.predict_risk(x1) \\\n",
    "                      - RS_composite_all.deep_surv.predict_risk(x0))/(2.0*eps))[:,0:0+1]\n",
    "    return J\n",
    "\n",
    "J = get_Jacobian(RS_composite_all)\n",
    "\n",
    "#n,p = RS_composite_all.X_train.shape\n",
    "#J = np.zeros([n,p])\n",
    "#x0.iloc[:,1] - 0.001 \n",
    "##for i in range(p):\n",
    "##    print(i)\n",
    "##    x0 = RS_composite_all.X_train.copy()\n",
    "##    x1 = RS_composite_all.X_train.copy()\n",
    "##    x0[:,i] = x0[:,i] - eps\n",
    "##    x1[:,i] = x1[:,i] + eps\n",
    "##    J[:,i:i+1] = (RS_composite_all.deep_surv.predict_risk(x1) \\\n",
    "##                  - RS_composite_all.deep_surv.predict_risk(x0))/(2.0*eps)"
   ]
  },
  {
   "cell_type": "code",
   "execution_count": null,
   "id": "north-weight",
   "metadata": {
    "scrolled": false
   },
   "outputs": [],
   "source": [
    "#plotting jacobian\n",
    "xlb = RS_composite_all.X_train.columns\n",
    "#lst = np.argsort(-np.sum(np.abs(J),axis=0))\n",
    "lst = np.argsort(-np.sum((J),axis=0))\n",
    "plt.figure(figsize=[20,10])\n",
    "plt.boxplot(J[:,lst], showfliers=False)\n",
    "plt.grid()\n",
    "plt.xticks(np.arange(len(xlb))+1,xlb[lst],rotation='vertical')\n",
    "plt.ylabel('Jacobian')\n",
    "plt.show()\n",
    "\n",
    "#xlb = RS_composite_all.X_train.columns\n",
    "#lst = np.argsort(-np.sum(np.abs(J),axis=0))\n",
    "#plt.figure(figsize=[20,10])\n",
    "##plt.boxplot(J[:,lst])\n",
    "#plt.boxplot(J[:,lst[0:10]])\n",
    "#plt.grid()\n",
    "#plt.xticks(np.arange(len(xlb[0:10]))+1,xlb[lst][0:10],rotation='vertical')\n",
    "#plt.ylabel('Jacobian')\n",
    "#plt.show()"
   ]
  },
  {
   "cell_type": "markdown",
   "id": "mechanical-constant",
   "metadata": {},
   "source": [
    "# Lab only"
   ]
  },
  {
   "cell_type": "code",
   "execution_count": null,
   "id": "proprietary-negotiation",
   "metadata": {
    "scrolled": true
   },
   "outputs": [],
   "source": [
    "RS_composite_all = RiskScore.load('RS_cvd_lab.tar.gz')"
   ]
  },
  {
   "cell_type": "markdown",
   "id": "funky-cabin",
   "metadata": {},
   "source": [
    "## jacobian"
   ]
  },
  {
   "cell_type": "code",
   "execution_count": null,
   "id": "aquatic-jewelry",
   "metadata": {
    "scrolled": true
   },
   "outputs": [],
   "source": [
    "def get_Jacobian(RS_composite_all,eps=1e-3):\n",
    "    n,p = RS_composite_all.X_train.shape\n",
    "    J = np.zeros([n,p])\n",
    "    for i in range(p):\n",
    "        #print(i)\n",
    "        x0 = RS_composite_all.X_train.copy()\n",
    "        x1 = RS_composite_all.X_train.copy()\n",
    "        x0.iloc[:,i] = x0.iloc[:,i] - eps\n",
    "        x1.iloc[:,i] = x1.iloc[:,i] + eps\n",
    "        J[:,i:i+1] = ((RS_composite_all.deep_surv.predict_risk(x1) \\\n",
    "                      - RS_composite_all.deep_surv.predict_risk(x0))/(2.0*eps))[:,0:0+1]\n",
    "    return J\n",
    "\n",
    "J = get_Jacobian(RS_composite_all)\n",
    "\n",
    "#n,p = RS_composite_all.X_train.shape\n",
    "#J = np.zeros([n,p])\n",
    "#x0.iloc[:,1] - 0.001 \n",
    "##for i in range(p):\n",
    "##    print(i)\n",
    "##    x0 = RS_composite_all.X_train.copy()\n",
    "##    x1 = RS_composite_all.X_train.copy()\n",
    "##    x0[:,i] = x0[:,i] - eps\n",
    "##    x1[:,i] = x1[:,i] + eps\n",
    "##    J[:,i:i+1] = (RS_composite_all.deep_surv.predict_risk(x1) \\\n",
    "##                  - RS_composite_all.deep_surv.predict_risk(x0))/(2.0*eps)"
   ]
  },
  {
   "cell_type": "code",
   "execution_count": null,
   "id": "widespread-transportation",
   "metadata": {},
   "outputs": [],
   "source": [
    "#plotting jacobian\n",
    "xlb = RS_composite_all.X_train.columns\n",
    "#lst = np.argsort(-np.sum(np.abs(J),axis=0))\n",
    "lst = np.argsort(-np.sum((J),axis=0))\n",
    "plt.figure(figsize=[20,10])\n",
    "plt.boxplot(J[:,lst], showfliers=False)\n",
    "plt.grid()\n",
    "plt.xticks(np.arange(len(xlb))+1,xlb[lst],rotation='vertical')\n",
    "plt.ylabel('Jacobian')\n",
    "plt.show()\n",
    "\n",
    "#xlb = RS_composite_all.X_train.columns\n",
    "#lst = np.argsort(-np.sum(np.abs(J),axis=0))\n",
    "#plt.figure(figsize=[20,10])\n",
    "##plt.boxplot(J[:,lst])\n",
    "#plt.boxplot(J[:,lst[0:10]])\n",
    "#plt.grid()\n",
    "#plt.xticks(np.arange(len(xlb[0:10]))+1,xlb[lst][0:10],rotation='vertical')\n",
    "#plt.ylabel('Jacobian')\n",
    "#plt.show()"
   ]
  },
  {
   "cell_type": "code",
   "execution_count": null,
   "id": "novel-championship",
   "metadata": {},
   "outputs": [],
   "source": []
  }
 ],
 "metadata": {
  "kernelspec": {
   "display_name": "Python 3",
   "language": "python",
   "name": "python3"
  },
  "language_info": {
   "codemirror_mode": {
    "name": "ipython",
    "version": 3
   },
   "file_extension": ".py",
   "mimetype": "text/x-python",
   "name": "python",
   "nbconvert_exporter": "python",
   "pygments_lexer": "ipython3",
   "version": "3.8.5"
  }
 },
 "nbformat": 4,
 "nbformat_minor": 5
}
